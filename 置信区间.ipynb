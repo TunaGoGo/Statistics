{
 "cells": [
  {
   "cell_type": "code",
   "execution_count": 37,
   "metadata": {},
   "outputs": [],
   "source": [
    "import pandas as pd\n",
    "import numpy as np\n",
    "from scipy import stats"
   ]
  },
  {
   "cell_type": "markdown",
   "metadata": {},
   "source": [
    "# 置信区间"
   ]
  },
  {
   "cell_type": "code",
   "execution_count": 108,
   "metadata": {},
   "outputs": [],
   "source": [
    "df = pd.read_csv(r\"C:\\Users\\jibu1001\\OneDrive - Nielsen IQ\\Desktop\\Daily work\\FC\\12.13 yili ice\\NATIONAL\\data.csv\" )"
   ]
  },
  {
   "cell_type": "code",
   "execution_count": 93,
   "metadata": {},
   "outputs": [],
   "source": [
    "# df = df.drop(labels=\"   \", axis=1)"
   ]
  },
  {
   "cell_type": "code",
   "execution_count": 113,
   "metadata": {},
   "outputs": [
    {
     "data": {
      "text/html": [
       "<div>\n",
       "<style scoped>\n",
       "    .dataframe tbody tr th:only-of-type {\n",
       "        vertical-align: middle;\n",
       "    }\n",
       "\n",
       "    .dataframe tbody tr th {\n",
       "        vertical-align: top;\n",
       "    }\n",
       "\n",
       "    .dataframe thead th {\n",
       "        text-align: right;\n",
       "    }\n",
       "</style>\n",
       "<table border=\"1\" class=\"dataframe\">\n",
       "  <thead>\n",
       "    <tr style=\"text-align: right;\">\n",
       "      <th></th>\n",
       "      <th>PERIOD_ID</th>\n",
       "      <th>STORE_ID</th>\n",
       "      <th>COND</th>\n",
       "      <th>PROD</th>\n",
       "      <th>FLAG</th>\n",
       "      <th>SALES_VALUE</th>\n",
       "      <th>SALES_VOLUME</th>\n",
       "    </tr>\n",
       "  </thead>\n",
       "  <tbody>\n",
       "    <tr>\n",
       "      <th>0</th>\n",
       "      <td>20211410</td>\n",
       "      <td>7600630994</td>\n",
       "      <td>@NA</td>\n",
       "      <td>@ICECR</td>\n",
       "      <td>1</td>\n",
       "      <td>10072.196560</td>\n",
       "      <td>194319.714300</td>\n",
       "    </tr>\n",
       "    <tr>\n",
       "      <th>1</th>\n",
       "      <td>20211410</td>\n",
       "      <td>7600736729</td>\n",
       "      <td>@NA</td>\n",
       "      <td>@ICECR</td>\n",
       "      <td>1</td>\n",
       "      <td>755.610000</td>\n",
       "      <td>9248.428392</td>\n",
       "    </tr>\n",
       "    <tr>\n",
       "      <th>2</th>\n",
       "      <td>20211410</td>\n",
       "      <td>7600782773</td>\n",
       "      <td>@NA</td>\n",
       "      <td>@ICECR</td>\n",
       "      <td>1</td>\n",
       "      <td>3449.662855</td>\n",
       "      <td>121667.714300</td>\n",
       "    </tr>\n",
       "    <tr>\n",
       "      <th>3</th>\n",
       "      <td>20211410</td>\n",
       "      <td>7600506503</td>\n",
       "      <td>@NA</td>\n",
       "      <td>@ICECR</td>\n",
       "      <td>1</td>\n",
       "      <td>4568.560000</td>\n",
       "      <td>43524.800000</td>\n",
       "    </tr>\n",
       "    <tr>\n",
       "      <th>4</th>\n",
       "      <td>20211410</td>\n",
       "      <td>7600675606</td>\n",
       "      <td>@NA</td>\n",
       "      <td>@ICECR</td>\n",
       "      <td>1</td>\n",
       "      <td>7224.244283</td>\n",
       "      <td>120619.001200</td>\n",
       "    </tr>\n",
       "  </tbody>\n",
       "</table>\n",
       "</div>"
      ],
      "text/plain": [
       "   PERIOD_ID    STORE_ID COND    PROD  FLAG   SALES_VALUE   SALES_VOLUME\n",
       "0   20211410  7600630994  @NA  @ICECR     1  10072.196560  194319.714300\n",
       "1   20211410  7600736729  @NA  @ICECR     1    755.610000    9248.428392\n",
       "2   20211410  7600782773  @NA  @ICECR     1   3449.662855  121667.714300\n",
       "3   20211410  7600506503  @NA  @ICECR     1   4568.560000   43524.800000\n",
       "4   20211410  7600675606  @NA  @ICECR     1   7224.244283  120619.001200"
      ]
     },
     "execution_count": 113,
     "metadata": {},
     "output_type": "execute_result"
    }
   ],
   "source": [
    "df.head()"
   ]
  },
  {
   "cell_type": "code",
   "execution_count": 114,
   "metadata": {},
   "outputs": [],
   "source": [
    "sales_value = df['SALES_VALUE'].astype(int).to_list()"
   ]
  },
  {
   "cell_type": "code",
   "execution_count": 115,
   "metadata": {},
   "outputs": [],
   "source": [
    "sales_value = df.groupby(['STORE_ID']).SALES_VALUE.sum()"
   ]
  },
  {
   "cell_type": "code",
   "execution_count": 116,
   "metadata": {},
   "outputs": [],
   "source": [
    "sample_count = len(sales_value)"
   ]
  },
  {
   "cell_type": "code",
   "execution_count": 117,
   "metadata": {},
   "outputs": [],
   "source": [
    "a = 0.05"
   ]
  },
  {
   "cell_type": "code",
   "execution_count": 118,
   "metadata": {},
   "outputs": [],
   "source": [
    "x_bar = np.average(sales_value)"
   ]
  },
  {
   "cell_type": "code",
   "execution_count": 119,
   "metadata": {},
   "outputs": [],
   "source": [
    "stderr = np.std(sales_value)"
   ]
  },
  {
   "cell_type": "code",
   "execution_count": 120,
   "metadata": {},
   "outputs": [],
   "source": [
    "t_a2 = stats.t.isf(a/2, sample_count-1)"
   ]
  },
  {
   "cell_type": "code",
   "execution_count": 122,
   "metadata": {},
   "outputs": [],
   "source": [
    "right = x_bar + t_a2*(stderr/np.sqrt(sample_count))\n",
    "left = x_bar - t_a2*(stderr/np.sqrt(sample_count))"
   ]
  },
  {
   "cell_type": "code",
   "execution_count": 123,
   "metadata": {},
   "outputs": [
    {
     "name": "stdout",
     "output_type": "stream",
     "text": [
      "95%的置信区间为（4319.804,4778.689）\n"
     ]
    }
   ],
   "source": [
    "print('95%的置信区间为（{:.3f},{:.3f}）'.format(left,right))"
   ]
  },
  {
   "cell_type": "markdown",
   "metadata": {},
   "source": []
  },
  {
   "cell_type": "code",
   "execution_count": null,
   "metadata": {},
   "outputs": [],
   "source": []
  }
 ],
 "metadata": {
  "interpreter": {
   "hash": "ade8490c86fd422596a40dbcae96ec0d7ac7de1fcc7168425af3ba4a39fd5ae5"
  },
  "kernelspec": {
   "display_name": "Python 3.7.3 64-bit ('base': conda)",
   "language": "python",
   "name": "python3"
  },
  "language_info": {
   "codemirror_mode": {
    "name": "ipython",
    "version": 3
   },
   "file_extension": ".py",
   "mimetype": "text/x-python",
   "name": "python",
   "nbconvert_exporter": "python",
   "pygments_lexer": "ipython3",
   "version": "3.7.3"
  },
  "orig_nbformat": 4
 },
 "nbformat": 4,
 "nbformat_minor": 2
}
